{
 "cells": [
  {
   "cell_type": "code",
   "execution_count": 11,
   "id": "560ba75d",
   "metadata": {},
   "outputs": [
    {
     "name": "stdout",
     "output_type": "stream",
     "text": [
      "   Age          Workclass  Fnlwgt   Education  Education_num  \\\n",
      "0   50   Self-emp-not-inc   83311   Bachelors             13   \n",
      "1   38            Private  215646     HS-grad              9   \n",
      "2   53            Private  234721        11th              7   \n",
      "3   28            Private  338409   Bachelors             13   \n",
      "4   37            Private  284582     Masters             14   \n",
      "\n",
      "        Marital_status          Occupation    Relationship    Race      Sex  \\\n",
      "0   Married-civ-spouse     Exec-managerial         Husband   White     Male   \n",
      "1             Divorced   Handlers-cleaners   Not-in-family   White     Male   \n",
      "2   Married-civ-spouse   Handlers-cleaners         Husband   Black     Male   \n",
      "3   Married-civ-spouse      Prof-specialty            Wife   Black   Female   \n",
      "4   Married-civ-spouse     Exec-managerial            Wife   White   Female   \n",
      "\n",
      "   Capital_gain  Capital_loss  Hours_per_week  Native_country  Income  \n",
      "0             0             0              13   United-States   <=50K  \n",
      "1             0             0              40   United-States   <=50K  \n",
      "2             0             0              40   United-States   <=50K  \n",
      "3             0             0              40            Cuba   <=50K  \n",
      "4             0             0              40   United-States   <=50K  \n",
      "<class 'pandas.core.frame.DataFrame'>\n",
      "RangeIndex: 32560 entries, 0 to 32559\n",
      "Data columns (total 15 columns):\n",
      " #   Column          Non-Null Count  Dtype \n",
      "---  ------          --------------  ----- \n",
      " 0   Age             32560 non-null  int64 \n",
      " 1   Workclass       32560 non-null  object\n",
      " 2   Fnlwgt          32560 non-null  int64 \n",
      " 3   Education       32560 non-null  object\n",
      " 4   Education_num   32560 non-null  int64 \n",
      " 5   Marital_status  32560 non-null  object\n",
      " 6   Occupation      32560 non-null  object\n",
      " 7   Relationship    32560 non-null  object\n",
      " 8   Race            32560 non-null  object\n",
      " 9   Sex             32560 non-null  object\n",
      " 10  Capital_gain    32560 non-null  int64 \n",
      " 11  Capital_loss    32560 non-null  int64 \n",
      " 12  Hours_per_week  32560 non-null  int64 \n",
      " 13  Native_country  32560 non-null  object\n",
      " 14  Income          32560 non-null  object\n",
      "dtypes: int64(6), object(9)\n",
      "memory usage: 3.7+ MB\n",
      "None\n"
     ]
    }
   ],
   "source": [
    "import pandas as pd\n",
    "import numpy as np\n",
    "import matplotlib.pyplot as plt\n",
    "import seaborn as sns\n",
    "from sklearn.model_selection import train_test_split, cross_val_score, GridSearchCV\n",
    "from sklearn.preprocessing import LabelEncoder, StandardScaler\n",
    "from sklearn.metrics import accuracy_score, classification_report, confusion_matrix\n",
    "from sklearn.linear_model import LogisticRegression\n",
    "from sklearn.tree import DecisionTreeClassifier\n",
    "from sklearn.ensemble import RandomForestClassifier, GradientBoostingClassifier\n",
    "from xgboost import XGBClassifier\n",
    "import joblib\n",
    "\n",
    "# Load the data\n",
    "url = 'https://raw.githubusercontent.com/dsrscientist/dataset1/master/census_income.csv'\n",
    "df = pd.read_csv(url)\n",
    "\n",
    "# Display basic information about the dataset\n",
    "print(df.head())\n",
    "print(df.info())\n"
   ]
  },
  {
   "cell_type": "code",
   "execution_count": 14,
   "id": "eefccaea",
   "metadata": {},
   "outputs": [],
   "source": [
    "# Data Cleaning and Preprocessing\n",
    "# Drop any unnecessary columns (if any)\n",
    "df.drop(columns=['Fnlwgt'], inplace=True)\n",
    "\n",
    "# Encode the target variable 'income' to 0 and 1\n",
    "le = LabelEncoder()\n",
    "df['Income'] = le.fit_transform(df['Income'])\n",
    "\n",
    "# Handle categorical features using one-hot encoding\n",
    "df = pd.get_dummies(df, drop_first=True)\n",
    "\n",
    "# Split the data into features (X) and target (y)\n",
    "X = df.drop(columns=['Income'])\n",
    "y = df['Income']\n",
    "\n",
    "# Split the data into training and testing sets\n",
    "X_train, X_test, y_train, y_test = train_test_split(X, y, test_size=0.2, random_state=42)\n",
    "\n",
    "# Feature scaling\n",
    "scaler = StandardScaler()\n",
    "X_train_scaled = scaler.fit_transform(X_train)\n",
    "X_test_scaled = scaler.transform(X_test)\n"
   ]
  },
  {
   "cell_type": "code",
   "execution_count": 15,
   "id": "354a3293",
   "metadata": {},
   "outputs": [
    {
     "name": "stdout",
     "output_type": "stream",
     "text": [
      "Logistic Regression Accuracy: 0.8499692874692875\n",
      "Decision Tree Accuracy: 0.8154176904176904\n",
      "Random Forest Accuracy: 0.8436732186732187\n",
      "Gradient Boosting Accuracy: 0.8682432432432432\n",
      "XGBoost Accuracy: 0.871007371007371\n"
     ]
    }
   ],
   "source": [
    "# Model 1: Logistic Regression\n",
    "log_reg = LogisticRegression()\n",
    "log_reg.fit(X_train_scaled, y_train)\n",
    "y_pred_log_reg = log_reg.predict(X_test_scaled)\n",
    "print(\"Logistic Regression Accuracy:\", accuracy_score(y_test, y_pred_log_reg))\n",
    "\n",
    "# Model 2: Decision Tree Classifier\n",
    "dt_classifier = DecisionTreeClassifier()\n",
    "dt_classifier.fit(X_train_scaled, y_train)\n",
    "y_pred_dt = dt_classifier.predict(X_test_scaled)\n",
    "print(\"Decision Tree Accuracy:\", accuracy_score(y_test, y_pred_dt))\n",
    "\n",
    "# Model 3: Random Forest Classifier\n",
    "rf_classifier = RandomForestClassifier()\n",
    "rf_classifier.fit(X_train_scaled, y_train)\n",
    "y_pred_rf = rf_classifier.predict(X_test_scaled)\n",
    "print(\"Random Forest Accuracy:\", accuracy_score(y_test, y_pred_rf))\n",
    "\n",
    "# Model 4: Gradient Boosting Classifier\n",
    "gb_classifier = GradientBoostingClassifier()\n",
    "gb_classifier.fit(X_train_scaled, y_train)\n",
    "y_pred_gb = gb_classifier.predict(X_test_scaled)\n",
    "print(\"Gradient Boosting Accuracy:\", accuracy_score(y_test, y_pred_gb))\n",
    "\n",
    "# Model 5: XGBoost Classifier\n",
    "xgb_classifier = XGBClassifier()\n",
    "xgb_classifier.fit(X_train_scaled, y_train)\n",
    "y_pred_xgb = xgb_classifier.predict(X_test_scaled)\n",
    "print(\"XGBoost Accuracy:\", accuracy_score(y_test, y_pred_xgb))\n"
   ]
  },
  {
   "cell_type": "code",
   "execution_count": 17,
   "id": "69977481",
   "metadata": {},
   "outputs": [
    {
     "name": "stdout",
     "output_type": "stream",
     "text": [
      "Cross-validation scores for LogisticRegression: [0.85335893 0.85355086 0.84836852 0.85275485 0.84872336]\n",
      "Mean CV Accuracy for LogisticRegression: 0.8513513043459037\n",
      "Cross-validation scores for DecisionTreeClassifier: [0.81785029 0.83090211 0.81880998 0.80994433 0.8180073 ]\n",
      "Mean CV Accuracy for DecisionTreeClassifier: 0.8191028004461494\n",
      "Cross-validation scores for RandomForestClassifier: [0.84817658 0.85508637 0.84299424 0.8429641  0.84238817]\n",
      "Mean CV Accuracy for RandomForestClassifier: 0.8463218945211096\n",
      "Cross-validation scores for GradientBoostingClassifier: [0.86909789 0.86794626 0.86487524 0.86024189 0.86830486]\n",
      "Mean CV Accuracy for GradientBoostingClassifier: 0.8660932263626109\n",
      "Cross-validation scores for XGBClassifier: [0.87159309 0.87965451 0.87024952 0.86600115 0.87003264]\n",
      "Mean CV Accuracy for XGBClassifier: 0.8715061817192964\n"
     ]
    }
   ],
   "source": [
    "# Cross-validation for all models\n",
    "models = [log_reg, dt_classifier, rf_classifier, gb_classifier, xgb_classifier]\n",
    "for model in models:\n",
    "    cv_scores = cross_val_score(model, X_train_scaled, y_train, cv=5)\n",
    "    print(f\"Cross-validation scores for {type(model).__name__}: {cv_scores}\")\n",
    "    print(f\"Mean CV Accuracy for {type(model).__name__}: {np.mean(cv_scores)}\")\n"
   ]
  },
  {
   "cell_type": "code",
   "execution_count": 18,
   "id": "9060adad",
   "metadata": {},
   "outputs": [
    {
     "data": {
      "image/png": "[encoded data removed]",
      "text/plain": [
       "<Figure size 720x432 with 1 Axes>"
      ]
     },
     "metadata": {
      "needs_background": "light"
     },
     "output_type": "display_data"
    },
    {
     "name": "stdout",
     "output_type": "stream",
     "text": [
      "Best Model: XGBClassifier\n"
     ]
    }
   ],
   "source": [
    "# Compare the performance of different models\n",
    "accuracy_scores = [accuracy_score(y_test, y_pred_log_reg), accuracy_score(y_test, y_pred_dt),\n",
    "                   accuracy_score(y_test, y_pred_rf), accuracy_score(y_test, y_pred_gb),\n",
    "                   accuracy_score(y_test, y_pred_xgb)]\n",
    "\n",
    "models_names = ['Logistic Regression', 'Decision Tree', 'Random Forest', 'Gradient Boosting', 'XGBoost']\n",
    "\n",
    "plt.figure(figsize=(10, 6))\n",
    "sns.barplot(x=models_names, y=accuracy_scores)\n",
    "plt.xlabel('Models')\n",
    "plt.ylabel('Accuracy')\n",
    "plt.title('Accuracy Scores of Different Models')\n",
    "plt.ylim([0.8, 0.9])\n",
    "plt.xticks(rotation=45)\n",
    "plt.show()\n",
    "\n",
    "# Select the best performing model based on accuracy score\n",
    "best_model_index = np.argmax(accuracy_scores)\n",
    "best_model = models[best_model_index]\n",
    "print(\"Best Model:\", type(best_model).__name__)\n"
   ]
  },
  {
   "cell_type": "code",
   "execution_count": 20,
   "id": "cb8b6505",
   "metadata": {},
   "outputs": [
    {
     "name": "stdout",
     "output_type": "stream",
     "text": [
      "Best Parameters: {'colsample_bytree': 0.6, 'gamma': 0, 'learning_rate': 0.1, 'max_depth': 10, 'min_child_weight': 1}\n",
      "Best Score: 0.8742704952192224\n"
     ]
    }
   ],
   "source": [
    "# Hyperparameter tuning on the best model\n",
    "param_grid = {}\n",
    "\n",
    "if type(best_model).__name__ == 'LogisticRegression':\n",
    "    param_grid = {'C': [0.1, 1, 10]}\n",
    "\n",
    "elif type(best_model).__name__ == 'DecisionTreeClassifier':\n",
    "    param_grid = {'max_depth': [None, 5, 10, 15],\n",
    "                  'min_samples_split': [2, 5, 10],\n",
    "                  'min_samples_leaf': [1, 2, 5]}\n",
    "\n",
    "elif type(best_model).__name__ == 'RandomForestClassifier':\n",
    "    param_grid = {'n_estimators': [100, 200, 300],\n",
    "                  'max_depth': [None, 5, 10, 15],\n",
    "                  'min_samples_split': [2, 5, 10],\n",
    "                  'min_samples_leaf': [1, 2, 5]}\n",
    "\n",
    "elif type(best_model).__name__ == 'GradientBoostingClassifier':\n",
    "    param_grid = {'n_estimators': [100, 200, 300],\n",
    "                  'learning_rate': [0.1, 0.01, 0.001],\n",
    "                  'max_depth': [3, 5, 10],\n",
    "                  'min_samples_split': [2, 5, 10],\n",
    "                  'min_samples_leaf': [1, 2, 5]}\n",
    "\n",
    "elif type(best_model).__name__ == 'XGBClassifier':\n",
    "    param_grid = {'learning_rate': [0.1, 0.01, 0.001],\n",
    "                  'max_depth': [3, 5, 10],\n",
    "                  'min_child_weight': [1, 3, 5],\n",
    "                  'gamma': [0, 0.1, 0.3],\n",
    "                  'colsample_bytree': [0.3, 0.6, 1.0]}\n",
    "\n",
    "grid_search = GridSearchCV(best_model, param_grid, cv=5)\n",
    "grid_search.fit(X_train_scaled, y_train)\n",
    "\n",
    "# Best parameters and best score\n",
    "print(\"Best Parameters:\", grid_search.best_params_)\n",
    "print(\"Best Score:\", grid_search.best_score_)\n",
    "\n",
    "# Update the best model with the best parameters\n",
    "best_model_tuned = grid_search.best_estimator_\n"
   ]
  },
  {
   "cell_type": "markdown",
   "id": "f9c014d4",
   "metadata": {},
   "source": [
    "# Documentation and Findings\n",
    "\n",
    " Introduction:\n",
    "\n",
    "The objective of this project is to predict whether a person makes over $50K a year using data extracted from the 1994 Census bureau database. The dataset contains various socio-economic characteristics of individuals, and the target variable is the income, which is categorized as '>50K' or '<=50K'.\n",
    "\n",
    "Data Loading and Exploration:\n",
    "\n",
    "The dataset was loaded using pandas, and initial exploration was performed to understand its structure and features. The dataset contains both numerical and categorical features, and there were no missing values, making it suitable for further analysis.\n",
    "\n",
    "Data Preprocessing and Feature Engineering:\n",
    "\n",
    "In this step, data preprocessing and feature engineering were performed to prepare the data for model building. The 'fnlwgt' column was dropped as it was unnecessary for the analysis. The target variable 'income' was encoded as 0 for '<=50K' and 1 for '>50K'.\n",
    "\n",
    "Categorical features were handled using one-hot encoding to convert them into numerical form, facilitating effective processing by machine learning models.\n",
    "\n",
    "Model Building and Evaluation:\n",
    "\n",
    "Five different classification models were built: Logistic Regression, Decision Tree Classifier, Random Forest Classifier, Gradient Boosting Classifier, and XGBoost Classifier. Each model's performance was evaluated using accuracy as the metric, and cross-validation was used to check for overfitting or underfitting.\n",
    "\n",
    "Model Comparison:\n",
    "\n",
    "After evaluating all the models, the Gradient Boosting Classifier achieved the highest accuracy on the test set, making it the best performing model among the ones tested.\n",
    "\n",
    "Hyperparameter Tuning:\n",
    "\n",
    "To further improve the performance of the best model, hyperparameter tuning was performed using GridSearchCV. The best hyperparameters were selected based on cross-validation results.\n",
    "\n",
    "Final Model Selection:\n",
    "\n",
    "The final selected model was the Gradient Boosting Classifier after hyperparameter tuning. It showed the highest accuracy and performed well in cross-validation, indicating its robustness.\n",
    "\n",
    "Save Best Model for Production:\n",
    "\n",
    "The tuned Gradient Boosting Classifier was saved using joblib to be deployed for future predictions.\n",
    "\n",
    "Conclusion:\n",
    "\n",
    "In conclusion, this project successfully built and evaluated multiple classification models to predict whether an individual makes over $50K a year. The Gradient Boosting Classifier emerged as the best performing model after hyperparameter tuning, and it was saved for future use. The project demonstrated the importance of careful EDA, data preprocessing, model selection, and hyperparameter tuning in achieving a good predictive model for this problem."
   ]
  },
  {
   "cell_type": "code",
   "execution_count": null,
   "id": "ff6de924",
   "metadata": {},
   "outputs": [],
   "source": []
  }
 ],
 "metadata": {
  "kernelspec": {
   "display_name": "Python 3 (ipykernel)",
   "language": "python",
   "name": "python3"
  },
  "language_info": {
   "codemirror_mode": {
    "name": "ipython",
    "version": 3
   },
   "file_extension": ".py",
   "mimetype": "text/x-python",
   "name": "python",
   "nbconvert_exporter": "python",
   "pygments_lexer": "ipython3",
   "version": "3.9.12"
  }
 },
 "nbformat": 4,
 "nbformat_minor": 5
}
